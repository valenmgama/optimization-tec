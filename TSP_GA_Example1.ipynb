{
 "cells": [
  {
   "cell_type": "markdown",
   "metadata": {},
   "source": [
    "## Source Code\n",
    "\n",
    "After [peer reviewing original code in JuliaLang community](https://discourse.julialang.org/t/massive-memory-allocation-on-iterating-algorithm-8-789115-seconds-26-65-m-allocations-7-826-gib-25-07-gc-time/48275/9) I ended up with a much faster (x9.5) code which you can checkout out and use freely [here.](https://github.com/valenmgama/optimization-tec)\n",
    "***"
   ]
  },
  {
   "cell_type": "markdown",
   "metadata": {},
   "source": [
    "# TSP Genetic Algorithm Example\n",
    "\n",
    "For this demonstration we will show how to implement the general idea behind a **Heuristic Genetic Algorithm** to try to find a close to optimal solution for a TSP problem in a short time."
   ]
  },
  {
   "cell_type": "markdown",
   "metadata": {},
   "source": [
    "##### Initialize Julia\n",
    "Import the modules we will be using in our Julia program."
   ]
  },
  {
   "cell_type": "code",
   "execution_count": 1,
   "metadata": {},
   "outputs": [],
   "source": [
    "using JuMP, Cbc, Random\n",
    "using CSV, PrettyTables, Printf"
   ]
  },
  {
   "cell_type": "markdown",
   "metadata": {},
   "source": [
    "---\n",
    "### Generate arc cost Matrix\n",
    "##### Import CSV files\n",
    "Import `.csv` coordiantes file.\n",
    "Iterate over each point to calculate the Geometric distance between those two points using _Pythagoras Theorem_."
   ]
  },
  {
   "cell_type": "code",
   "execution_count": 2,
   "metadata": {},
   "outputs": [
    {
     "name": "stdout",
     "output_type": "stream",
     "text": [
      "┌\u001b[0m───────\u001b[0m┬\u001b[0m──────────────\u001b[0m┬\u001b[0m──────────────\u001b[0m┐\u001b[0m\n",
      "│\u001b[0m\u001b[1m    ID \u001b[0m│\u001b[0m\u001b[1m X coordinate \u001b[0m│\u001b[0m\u001b[1m Y coordinate \u001b[0m│\u001b[0m\n",
      "│\u001b[0m\u001b[90m Int64 \u001b[0m│\u001b[0m\u001b[90m      Float64 \u001b[0m│\u001b[0m\u001b[90m      Float64 \u001b[0m│\u001b[0m\n",
      "├\u001b[0m───────\u001b[0m┼\u001b[0m──────────────\u001b[0m┼\u001b[0m──────────────\u001b[0m┤\u001b[0m\n",
      "│\u001b[0m     1 \u001b[0m│\u001b[0m       13.434 \u001b[0m│\u001b[0m       66.235 \u001b[0m│\u001b[0m\n",
      "│\u001b[0m     2 \u001b[0m│\u001b[0m       13.452 \u001b[0m│\u001b[0m       66.123 \u001b[0m│\u001b[0m\n",
      "│\u001b[0m     3 \u001b[0m│\u001b[0m       13.464 \u001b[0m│\u001b[0m       66.316 \u001b[0m│\u001b[0m\n",
      "│\u001b[0m     4 \u001b[0m│\u001b[0m       13.497 \u001b[0m│\u001b[0m       66.376 \u001b[0m│\u001b[0m\n",
      "│\u001b[0m     5 \u001b[0m│\u001b[0m       13.425 \u001b[0m│\u001b[0m       66.288 \u001b[0m│\u001b[0m\n",
      "│\u001b[0m     6 \u001b[0m│\u001b[0m       13.502 \u001b[0m│\u001b[0m       66.401 \u001b[0m│\u001b[0m\n",
      "│\u001b[0m     7 \u001b[0m│\u001b[0m       13.456 \u001b[0m│\u001b[0m       66.289 \u001b[0m│\u001b[0m\n",
      "└\u001b[0m───────\u001b[0m┴\u001b[0m──────────────\u001b[0m┴\u001b[0m──────────────\u001b[0m┘\u001b[0m\n",
      "nothing"
     ]
    },
    {
     "name": "stderr",
     "output_type": "stream",
     "text": [
      "┌ Warning: `CSV.read(input; kw...)` is deprecated in favor of `using DataFrames; CSV.read(input, DataFrame; kw...)\n",
      "│   caller = ip:0x0\n",
      "└ @ Core :-1\n"
     ]
    },
    {
     "name": "stdout",
     "output_type": "stream",
     "text": [
      "\n"
     ]
    }
   ],
   "source": [
    "#Importar datos de Excel\n",
    "nodes_import = CSV.read(\"Node_Coordinates.csv\", header = true)\n",
    "\n",
    "#Definir que hay en cada columna del excel y cuantos nodos hay en total\n",
    "num_nodes = size(nodes_import,1)\n",
    "idcol = 1\n",
    "Xcol = 2\n",
    "Ycol = 3\n",
    "\n",
    "println(pretty_table(nodes_import))"
   ]
  },
  {
   "cell_type": "markdown",
   "metadata": {},
   "source": [
    "##### Calculate distance between points\n",
    "Iterate over each point to calculate the Geometric distance between those two points using _Pythagoras Theorem_."
   ]
  },
  {
   "cell_type": "code",
   "execution_count": 3,
   "metadata": {},
   "outputs": [
    {
     "name": "stdout",
     "output_type": "stream",
     "text": [
      "┌\u001b[0m────────\u001b[0m┬\u001b[0m────────\u001b[0m┬\u001b[0m────────\u001b[0m┬\u001b[0m────────\u001b[0m┬\u001b[0m────────\u001b[0m┬\u001b[0m────────\u001b[0m┬\u001b[0m────────\u001b[0m┐\u001b[0m\n",
      "│\u001b[0m\u001b[1m Col. 1 \u001b[0m│\u001b[0m\u001b[1m Col. 2 \u001b[0m│\u001b[0m\u001b[1m Col. 3 \u001b[0m│\u001b[0m\u001b[1m Col. 4 \u001b[0m│\u001b[0m\u001b[1m Col. 5 \u001b[0m│\u001b[0m\u001b[1m Col. 6 \u001b[0m│\u001b[0m\u001b[1m Col. 7 \u001b[0m│\u001b[0m\n",
      "├\u001b[0m────────\u001b[0m┼\u001b[0m────────\u001b[0m┼\u001b[0m────────\u001b[0m┼\u001b[0m────────\u001b[0m┼\u001b[0m────────\u001b[0m┼\u001b[0m────────\u001b[0m┼\u001b[0m────────\u001b[0m┤\u001b[0m\n",
      "│\u001b[0m    0.0 \u001b[0m│\u001b[0m  0.113 \u001b[0m│\u001b[0m  0.086 \u001b[0m│\u001b[0m  0.154 \u001b[0m│\u001b[0m  0.054 \u001b[0m│\u001b[0m  0.179 \u001b[0m│\u001b[0m  0.058 \u001b[0m│\u001b[0m\n",
      "│\u001b[0m  0.113 \u001b[0m│\u001b[0m    0.0 \u001b[0m│\u001b[0m  0.193 \u001b[0m│\u001b[0m  0.257 \u001b[0m│\u001b[0m  0.167 \u001b[0m│\u001b[0m  0.282 \u001b[0m│\u001b[0m  0.166 \u001b[0m│\u001b[0m\n",
      "│\u001b[0m  0.086 \u001b[0m│\u001b[0m  0.193 \u001b[0m│\u001b[0m    0.0 \u001b[0m│\u001b[0m  0.068 \u001b[0m│\u001b[0m  0.048 \u001b[0m│\u001b[0m  0.093 \u001b[0m│\u001b[0m  0.028 \u001b[0m│\u001b[0m\n",
      "│\u001b[0m  0.154 \u001b[0m│\u001b[0m  0.257 \u001b[0m│\u001b[0m  0.068 \u001b[0m│\u001b[0m    0.0 \u001b[0m│\u001b[0m  0.114 \u001b[0m│\u001b[0m  0.025 \u001b[0m│\u001b[0m  0.096 \u001b[0m│\u001b[0m\n",
      "│\u001b[0m  0.054 \u001b[0m│\u001b[0m  0.167 \u001b[0m│\u001b[0m  0.048 \u001b[0m│\u001b[0m  0.114 \u001b[0m│\u001b[0m    0.0 \u001b[0m│\u001b[0m  0.137 \u001b[0m│\u001b[0m  0.031 \u001b[0m│\u001b[0m\n",
      "│\u001b[0m  0.179 \u001b[0m│\u001b[0m  0.282 \u001b[0m│\u001b[0m  0.093 \u001b[0m│\u001b[0m  0.025 \u001b[0m│\u001b[0m  0.137 \u001b[0m│\u001b[0m    0.0 \u001b[0m│\u001b[0m  0.121 \u001b[0m│\u001b[0m\n",
      "│\u001b[0m  0.058 \u001b[0m│\u001b[0m  0.166 \u001b[0m│\u001b[0m  0.028 \u001b[0m│\u001b[0m  0.096 \u001b[0m│\u001b[0m  0.031 \u001b[0m│\u001b[0m  0.121 \u001b[0m│\u001b[0m    0.0 \u001b[0m│\u001b[0m\n",
      "└\u001b[0m────────\u001b[0m┴\u001b[0m────────\u001b[0m┴\u001b[0m────────\u001b[0m┴\u001b[0m────────\u001b[0m┴\u001b[0m────────\u001b[0m┴\u001b[0m────────\u001b[0m┴\u001b[0m────────\u001b[0m┘\u001b[0m\n",
      "nothing\n"
     ]
    }
   ],
   "source": [
    "#Generar la Matriz de distancias a partir del numero de nodos\n",
    "distance_matrix = Array{Float64}(undef, (num_nodes, num_nodes))\n",
    "#Llenar la matriz de distancias entre todos los puntos usando Pitagoras\n",
    "for n in 1:num_nodes\n",
    "    for s in 1:num_nodes\n",
    "        distance_matrix[n,s] = sqrt((nodes_import[n,Ycol] - nodes_import[s,Ycol])^2 +\n",
    "        (nodes_import[n,Xcol] - nodes_import[s,Xcol])^2)\n",
    "    end\n",
    "    distance_matrix[n,n] = 0\n",
    "end\n",
    "\n",
    "println(pretty_table(round.(distance_matrix, digits=3)))"
   ]
  },
  {
   "cell_type": "markdown",
   "metadata": {},
   "source": [
    "This `distance_matrix` will be our **Arc Cost Matrix** when solving the problem.\n",
    "***"
   ]
  },
  {
   "cell_type": "markdown",
   "metadata": {},
   "source": [
    "### Build Genetic Definition\n",
    "\n",
    "##### Solutions as Individuals\n",
    "\n",
    "In genetic algorithms **a possible solution is presented as an _Individual_** with the possible solution coded in the Individual's _genes_. For this problem the genes will be the sequence or order in which each node will be visited. \n",
    "\n",
    "For example in **sequence [2,1,3]** we can say that the 1st node is the second one to be visited, the 2nd node is the starting node, and the 3rd node is visited last. It is implied in the code that follows that there is always an additional arc which returns from the final node to the starting point. In this example from Node 3 to Node 2. The final sequence **would thus be 2-1-3-2.**"
   ]
  },
  {
   "cell_type": "code",
   "execution_count": 4,
   "metadata": {},
   "outputs": [],
   "source": [
    "struct Individual\n",
    "    generation::Int\n",
    "    genes::Vector{Int}\n",
    "    fitness_score::Float64\n",
    "end"
   ]
  },
  {
   "cell_type": "markdown",
   "metadata": {},
   "source": [
    "##### Fitness function\n",
    "\n",
    "Following the laws of natural selection **we must evaluate and rank each Indivdual's _fitness_.** For optimization problems _fitness_ usually refers directly to the objective function. So for this problem in which we try to _MIN_ the cost of traveling through all nodes the fittest individuals will be the ones whose genes provide the sequence for the path with the lowests costs or _distace_ traveled.\n",
    "\n",
    "**The fittest individuals will be the ones who will cross with other survivors to produce the next generation of solutions** while the worst solutions, or weakest Individuals, will be eliminated from the population."
   ]
  },
  {
   "cell_type": "code",
   "execution_count": 5,
   "metadata": {},
   "outputs": [
    {
     "data": {
      "text/plain": [
       "Individual"
      ]
     },
     "execution_count": 5,
     "metadata": {},
     "output_type": "execute_result"
    }
   ],
   "source": [
    "function fitness_function(sequence)\n",
    "    arcs = zeros(Bool, num_nodes, num_nodes)\n",
    "    i = sequence[1]\n",
    "    for s in 2:length(sequence)\n",
    "        j = sequence[s]\n",
    "        arcs[i,j] = 1\n",
    "        i = j\n",
    "    end\n",
    "    arcs[i,sequence[1]] = 1\n",
    "    return sum(arcs.*distance_matrix)\n",
    "end\n",
    "\n",
    "Individual(gen, genes) = Individual(gen, genes, fitness_function(genes))"
   ]
  },
  {
   "cell_type": "markdown",
   "metadata": {},
   "source": [
    "When a new Individual is created it's genes will be automatically evaluated in the `fitness_function`\n",
    "***"
   ]
  },
  {
   "cell_type": "markdown",
   "metadata": {},
   "source": [
    "### Run Genetic Algorithm\n",
    "\n",
    "##### Initialize population\n",
    "\n",
    "We now define the total size of the population and we **create a starting _population_ with totally random genes**"
   ]
  },
  {
   "cell_type": "code",
   "execution_count": 8,
   "metadata": {},
   "outputs": [
    {
     "data": {
      "text/plain": [
       "10-element Array{Individual,1}:\n",
       " Individual(1, [1, 7, 4, 6, 3, 2, 5], 0.6874149164988359)\n",
       " Individual(1, [1, 6, 4, 3, 2, 7, 5], 0.7175549467839349)\n",
       " Individual(1, [6, 1, 7, 5, 2, 3, 4], 0.7232520572491363)\n",
       " Individual(1, [1, 6, 4, 7, 2, 3, 5], 0.7622498845273068)\n",
       " Individual(1, [6, 4, 2, 3, 1, 5, 7], 0.7680690224696226)\n",
       " Individual(1, [6, 4, 1, 3, 5, 2, 7], 0.7686382157486541)\n",
       " Individual(1, [3, 2, 6, 4, 1, 7, 5], 0.7930989228722776)\n",
       " Individual(1, [4, 7, 1, 6, 5, 2, 3], 0.8996583855429939)\n",
       " Individual(1, [5, 2, 7, 3, 6, 1, 4], 0.9020340670824505)\n",
       " Individual(1, [1, 4, 3, 7, 5, 2, 6], 0.9111300681099338)"
      ]
     },
     "execution_count": 8,
     "metadata": {},
     "output_type": "execute_result"
    }
   ],
   "source": [
    "pop_size = 10\n",
    "\n",
    "population = Array{Individual}(undef,0)\n",
    "for i in 1:pop_size\n",
    "    push!(population, Individual(1,randperm(num_nodes)))\n",
    "end\n",
    "sort!(population, by = p -> p.fitness_score)\n",
    "pop1 = collect(population)"
   ]
  },
  {
   "cell_type": "markdown",
   "metadata": {},
   "source": [
    "##### Chose parents for next generation\n",
    "Now that this starting population has been _sorted_ from fittests to least fit we must define which and how many of them will be the parents of the next generation.\n",
    "\n",
    "* **_survivors_** are Individuals who will survive and **mate and pass their genes** on to the next generation.\n",
    "\n",
    "* **_elites_**, who will also get to **pass directly on to the next generation** elites are also implicitly survivors and will mate with other elite or non-elite survivors.\n",
    "\n",
    "* **_mutts_**, random individuals in each generation who **suffer a random mutation** or gene change.\n",
    "\n",
    "As will be shown in a moment, each Survivor will mate twice and father two new Individuals, who will join with the elites to form the next generation. Considering this we must ensure the following equation reamins true to maintain the same population level each generation.\n",
    "\n",
    "`pop_size = elites + 2*survivors`"
   ]
  },
  {
   "cell_type": "code",
   "execution_count": 9,
   "metadata": {},
   "outputs": [
    {
     "data": {
      "text/plain": [
       "1"
      ]
     },
     "execution_count": 9,
     "metadata": {},
     "output_type": "execute_result"
    }
   ],
   "source": [
    "pop_size = 10\n",
    "elites = 2\n",
    "survivors = 4\n",
    "mutts = 1"
   ]
  },
  {
   "cell_type": "markdown",
   "metadata": {},
   "source": [
    "#### Iterate Genetic Algorithm for n generations\n",
    "\n",
    "Follwing this point is main algorith for iterating over generations. For each generation it will:\n",
    "\n",
    "1. **Sort** the population leaving the _elites_ on top and adding _survivors to the `mating_pool`.\n",
    "\n",
    "2. **Cross** survivors in random pairs with varying degrees of crossing or gene changes. `cross_point` refers to how many nodes in the gene sequence will be exchanged. Each survivor will mate at least once and will produce 2 _childs_. _childs_ will join the next generation along with the elites.\n",
    "\n",
    "3. **Mutate** `mutts = 1` random children. The mutation will change one random step in the gene sequence. Ex: 1-3-2-4-1 -> 1-3-4-2-1\n",
    "\n",
    "4. **Revisar** si la población ya convergio a tener los mismos genes para parar el algortimo o esperar a que se llegue al número de generación establecido.\n"
   ]
  },
  {
   "cell_type": "code",
   "execution_count": 11,
   "metadata": {},
   "outputs": [
    {
     "name": "stdout",
     "output_type": "stream",
     "text": [
      "Convergencia en la GEN4\n"
     ]
    }
   ],
   "source": [
    "generations = 6\n",
    "\n",
    "for gens = 2:generations\n",
    "    #1st\n",
    "    ###############################################\n",
    "    sort!(population, by = p -> p.fitness_score)\n",
    "    mating_pool = population[1:survivors]\n",
    "    \n",
    "    #2nd\n",
    "    ################################################\n",
    "    for p in 1:survivors\n",
    "        parent1_genes = mating_pool[p].genes\n",
    "        parent2_genes = mating_pool[rand(1:survivors)].genes\n",
    "        cross_point = rand(1:num_nodes-2)\n",
    "\n",
    "        child1_genes = parent1_genes[1:cross_point]\n",
    "        child2_genes = parent2_genes[1:cross_point]\n",
    "        parent1_left = parent1_genes[cross_point+1:end]\n",
    "        parent2_left = parent2_genes[cross_point+1:end]\n",
    "\n",
    "        ch1_pending = Array{Tuple{Int64,Int64}}(undef,0)\n",
    "        foreach(l -> push!(ch1_pending,\n",
    "                    (l, findfirst(isequal(l), parent2_genes))),\n",
    "                    parent1_left)\n",
    "        sort!(ch1_pending, by = e -> e[:][2])\n",
    "        foreach(p -> push!(child1_genes, p[1]), ch1_pending)\n",
    "\n",
    "        ch2_pending = Array{Tuple{Int64,Int64}}(undef,0)\n",
    "        foreach(l -> push!(ch2_pending,\n",
    "                    (l, findfirst(isequal(l), parent1_genes))),\n",
    "                    parent2_left)\n",
    "        sort!(ch2_pending, by = e -> e[:][2])\n",
    "        foreach(p -> push!(child2_genes, p[1]), ch2_pending)\n",
    "\n",
    "        population[elites+p] = Individual(gens,child1_genes)\n",
    "        population[elites+survivors+p] = Individual(gens,child2_genes)\n",
    "    end\n",
    "\n",
    "    #3rd\n",
    "    ###############################################\n",
    "    for m in 1:mutts\n",
    "        mutt = population[rand(elites:num_nodes)]\n",
    "        mutt_gene = rand(1:num_nodes-1)\n",
    "        i = findfirst(isequal(mutt_gene), mutt.genes)\n",
    "        j = findfirst(isequal(mutt_gene+1), mutt.genes)\n",
    "        mutt.genes[i] = mutt_gene+1\n",
    "        mutt.genes[j] = mutt_gene\n",
    "    end\n",
    "    \n",
    "    #4th\n",
    "    ###############################################\n",
    "    if population[1].fitness_score == population[survivors].fitness_score\n",
    "        print(\"Convergencia en la GEN\")\n",
    "        println(gens)\n",
    "        break\n",
    "    end\n",
    "end"
   ]
  },
  {
   "cell_type": "code",
   "execution_count": 12,
   "metadata": {},
   "outputs": [
    {
     "data": {
      "text/plain": [
       "10-element Array{Individual,1}:\n",
       " Individual(2, [1, 6, 4, 3, 7, 5, 2], 0.6131673041391617)\n",
       " Individual(3, [1, 6, 4, 2, 7, 5, 3], 0.6131673041391617)\n",
       " Individual(4, [1, 6, 4, 3, 7, 5, 2], 0.6131673041391617)\n",
       " Individual(4, [1, 6, 4, 3, 7, 5, 2], 0.6131673041391617)\n",
       " Individual(4, [1, 6, 4, 3, 7, 5, 2], 0.6131673041391617)\n",
       " Individual(4, [1, 7, 4, 5, 3, 6, 2], 0.8052035068376027)\n",
       " Individual(4, [1, 6, 4, 3, 7, 5, 2], 0.6131673041391617)\n",
       " Individual(4, [1, 6, 4, 3, 7, 5, 2], 0.6131673041391617)\n",
       " Individual(4, [1, 6, 4, 3, 7, 5, 2], 0.6131673041391617)\n",
       " Individual(4, [1, 6, 4, 3, 7, 5, 2], 0.6131673041391617)"
      ]
     },
     "execution_count": 12,
     "metadata": {},
     "output_type": "execute_result"
    }
   ],
   "source": [
    "pop2 = population"
   ]
  },
  {
   "cell_type": "code",
   "execution_count": 18,
   "metadata": {},
   "outputs": [
    {
     "data": {
      "text/plain": [
       "8-element Array{Any,1}:\n",
       " 1\n",
       " 7\n",
       " 4\n",
       " 3\n",
       " 6\n",
       " 2\n",
       " 5\n",
       " 1"
      ]
     },
     "execution_count": 18,
     "metadata": {},
     "output_type": "execute_result"
    }
   ],
   "source": [
    "final_sequence = []\n",
    "for n in 1:num_nodes\n",
    "    push!(final_sequence, findfirst(isequal(n), population[1].genes))\n",
    "end\n",
    "push!(final_sequence, findfirst(isequal(1), population[1].genes))"
   ]
  },
  {
   "cell_type": "markdown",
   "metadata": {},
   "source": [
    "***\n",
    "### Analyzing obtained results\n",
    "\n",
    "From the list of _Individuals_ just presented which corresponds to the last generation in the algorithm we can see that all genes have converged into the sequence, or **solution,  1-7-4-3-6-2-5-1.** With a final _fitness_function_ or **`objetive_function = .613167`**. The only odd _Individual_ is the one who was _mutated_ in this generation."
   ]
  },
  {
   "cell_type": "markdown",
   "metadata": {},
   "source": [
    "Let's compare this result to the one obtained in a classic MTZ formulation of the exact same problem."
   ]
  },
  {
   "cell_type": "code",
   "execution_count": 19,
   "metadata": {},
   "outputs": [
    {
     "name": "stdout",
     "output_type": "stream",
     "text": [
      "┌\u001b[0m────────\u001b[0m┬\u001b[0m────────\u001b[0m┬\u001b[0m────────\u001b[0m┬\u001b[0m────────\u001b[0m┬\u001b[0m────────\u001b[0m┬\u001b[0m────────\u001b[0m┬\u001b[0m────────\u001b[0m┐\u001b[0m\n",
      "│\u001b[0m\u001b[1m Col. 1 \u001b[0m│\u001b[0m\u001b[1m Col. 2 \u001b[0m│\u001b[0m\u001b[1m Col. 3 \u001b[0m│\u001b[0m\u001b[1m Col. 4 \u001b[0m│\u001b[0m\u001b[1m Col. 5 \u001b[0m│\u001b[0m\u001b[1m Col. 6 \u001b[0m│\u001b[0m\u001b[1m Col. 7 \u001b[0m│\u001b[0m\n",
      "├\u001b[0m────────\u001b[0m┼\u001b[0m────────\u001b[0m┼\u001b[0m────────\u001b[0m┼\u001b[0m────────\u001b[0m┼\u001b[0m────────\u001b[0m┼\u001b[0m────────\u001b[0m┼\u001b[0m────────\u001b[0m┤\u001b[0m\n",
      "│\u001b[0m    0.0 \u001b[0m│\u001b[0m    0.0 \u001b[0m│\u001b[0m    0.0 \u001b[0m│\u001b[0m    0.0 \u001b[0m│\u001b[0m    1.0 \u001b[0m│\u001b[0m    0.0 \u001b[0m│\u001b[0m    0.0 \u001b[0m│\u001b[0m\n",
      "│\u001b[0m    1.0 \u001b[0m│\u001b[0m    0.0 \u001b[0m│\u001b[0m    0.0 \u001b[0m│\u001b[0m    0.0 \u001b[0m│\u001b[0m    0.0 \u001b[0m│\u001b[0m    0.0 \u001b[0m│\u001b[0m    0.0 \u001b[0m│\u001b[0m\n",
      "│\u001b[0m    0.0 \u001b[0m│\u001b[0m    0.0 \u001b[0m│\u001b[0m    0.0 \u001b[0m│\u001b[0m    0.0 \u001b[0m│\u001b[0m    0.0 \u001b[0m│\u001b[0m    0.0 \u001b[0m│\u001b[0m    1.0 \u001b[0m│\u001b[0m\n",
      "│\u001b[0m    0.0 \u001b[0m│\u001b[0m    0.0 \u001b[0m│\u001b[0m    1.0 \u001b[0m│\u001b[0m    0.0 \u001b[0m│\u001b[0m    0.0 \u001b[0m│\u001b[0m    0.0 \u001b[0m│\u001b[0m    0.0 \u001b[0m│\u001b[0m\n",
      "│\u001b[0m    0.0 \u001b[0m│\u001b[0m    0.0 \u001b[0m│\u001b[0m    0.0 \u001b[0m│\u001b[0m    0.0 \u001b[0m│\u001b[0m    0.0 \u001b[0m│\u001b[0m    1.0 \u001b[0m│\u001b[0m    0.0 \u001b[0m│\u001b[0m\n",
      "│\u001b[0m    0.0 \u001b[0m│\u001b[0m    0.0 \u001b[0m│\u001b[0m    0.0 \u001b[0m│\u001b[0m    1.0 \u001b[0m│\u001b[0m    0.0 \u001b[0m│\u001b[0m    0.0 \u001b[0m│\u001b[0m    0.0 \u001b[0m│\u001b[0m\n",
      "│\u001b[0m    0.0 \u001b[0m│\u001b[0m    1.0 \u001b[0m│\u001b[0m    0.0 \u001b[0m│\u001b[0m    0.0 \u001b[0m│\u001b[0m    0.0 \u001b[0m│\u001b[0m    0.0 \u001b[0m│\u001b[0m    0.0 \u001b[0m│\u001b[0m\n",
      "└\u001b[0m────────\u001b[0m┴\u001b[0m────────\u001b[0m┴\u001b[0m────────\u001b[0m┴\u001b[0m────────\u001b[0m┴\u001b[0m────────\u001b[0m┴\u001b[0m────────\u001b[0m┴\u001b[0m────────\u001b[0m┘\u001b[0m\n",
      "nothingWelcome to the CBC MILP Solver \n",
      "Version: 2.10.3 \n",
      "Build Date: Jan  1 1970 \n",
      "\n",
      "command line - Cbc_C_Interface -solve -quit (default strategy 1)\n",
      "Continuous objective value is 0.415363 - 0.01 seconds\n",
      "Cgl0002I 7 variables fixed\n",
      "Cgl0003I 0 fixed, 0 tightened bounds, 30 strengthened rows, 0 substitutions\n",
      "Cgl0003I 0 fixed, 0 tightened bounds, 30 strengthened rows, 0 substitutions\n",
      "Cgl0003I 0 fixed, 0 tightened bounds, 30 strengthened rows, 0 substitutions\n",
      "Cgl0003I 0 fixed, 0 tightened bounds, 30 strengthened rows, 0 substitutions\n",
      "Cgl0004I processed model has 44 rows, 48 columns (42 integer (42 of which binary)) and 294 elements\n",
      "Cbc0031I 7 added rows had average density of 30.857143\n",
      "Cbc0013I At root node, 7 cuts changed objective from 0.42142504 to 0.52127403 in 83 passes\n",
      "Cbc0014I Cut generator 0 (Probing) - 156 row cuts average 3.6 elements, 0 column cuts (0 active)  in 0.014 seconds - new frequency is 1\n",
      "Cbc0014I Cut generator 1 (Gomory) - 382 row cuts average 37.9 elements, 0 column cuts (0 active)  in 0.006 seconds - new frequency is 1\n",
      "Cbc0014I Cut generator 2 (Knapsack) - 2 row cuts average 17.0 elements, 0 column cuts (0 active)  in 0.011 seconds - new frequency is -100\n",
      "Cbc0014I Cut generator 3 (Clique) - 0 row cuts average 0.0 elements, 0 column cuts (0 active)  in 0.001 seconds - new frequency is -100\n",
      "Cbc0014I Cut generator 4 (MixedIntegerRounding2) - 105 row cuts average 8.0 elements, 0 column cuts (0 active)  in 0.011 seconds - new frequency is 1\n",
      "Cbc0014I Cut generator 5 (FlowCover) - 29 row cuts average 2.0 elements, 0 column cuts (0 active)  in 0.007 seconds - new frequency is 1\n",
      "Cbc0014I Cut generator 6 (TwoMirCuts) - 164 row cuts average 10.3 elements, 0 column cuts (0 active)  in 0.010 seconds - new frequency is 1\n",
      "Cbc0010I After 0 nodes, 1 on tree, 1e+50 best solution, best possible 0.52127403 (0.16 seconds)\n",
      "Cbc0004I Integer solution of 0.59940541 found after 1887 iterations and 9 nodes (0.21 seconds)\n",
      "Cbc0038I Full problem 44 rows 48 columns, reduced to 33 rows 13 columns\n",
      "Cbc0004I Integer solution of 0.59211637 found after 1985 iterations and 13 nodes (0.23 seconds)\n",
      "Cbc0001I Search completed - best objective 0.5921163702039417, took 2371 iterations and 26 nodes (0.25 seconds)\n",
      "Cbc0032I Strong branching done 322 times (3440 iterations), fathomed 4 nodes and fixed 9 variables\n",
      "Cbc0035I Maximum depth 8, 94 variables fixed on reduced cost\n",
      "Cuts at root node changed objective from 0.421425 to 0.521274\n",
      "Probing was tried 153 times and created 407 cuts of which 0 were active after adding rounds of cuts (0.018 seconds)\n",
      "Gomory was tried 149 times and created 441 cuts of which 0 were active after adding rounds of cuts (0.011 seconds)\n",
      "Knapsack was tried 83 times and created 2 cuts of which 0 were active after adding rounds of cuts (0.011 seconds)\n",
      "Clique was tried 83 times and created 0 cuts of which 0 were active after adding rounds of cuts (0.001 seconds)\n",
      "MixedIntegerRounding2 was tried 149 times and created 216 cuts of which 0 were active after adding rounds of cuts (0.016 seconds)\n",
      "FlowCover was tried 149 times and created 41 cuts of which 0 were active after adding rounds of cuts (0.010 seconds)\n",
      "TwoMirCuts was tried 149 times and created 300 cuts of which 0 were active after adding rounds of cuts (0.017 seconds)\n",
      "ZeroHalf was tried 1 times and created 0 cuts of which 0 were active after adding rounds of cuts (0.001 seconds)\n",
      "ImplicationCuts was tried 66 times and created 5 cuts of which 0 were active after adding rounds of cuts (0.000 seconds)\n",
      "\n",
      "Result - Optimal solution found\n",
      "\n",
      "Objective value:                0.59211637\n",
      "Enumerated nodes:               26\n",
      "Total iterations:               2371\n",
      "Time (CPU seconds):             0.26\n",
      "Time (Wallclock seconds):       0.26\n",
      "\n",
      "Total time (CPU seconds):       0.27   (Wallclock seconds):       0.27\n",
      "\n"
     ]
    }
   ],
   "source": [
    "mtzModel = Model(Cbc.Optimizer)\n",
    "@variable(mtzModel, rutas[1:num_nodes,1:num_nodes], binary=true)\n",
    "@variable(mtzModel, 2 <= u[2:num_nodes] <= num_nodes)\n",
    "@objective(mtzModel, Min, sum(rutas[:,:].*distance_matrix[:,:]))\n",
    "for i = 1:num_nodes\n",
    "    @constraint(mtzModel, sum(rutas[i,:]) == 1)\n",
    "    @constraint(mtzModel, sum(rutas[:,i]) == 1)\n",
    "    @constraint(mtzModel, rutas[i,i] == 0)\n",
    "end\n",
    "for i = 2:num_nodes\n",
    "    for j = 2:num_nodes\n",
    "        @constraint(mtzModel, u[i]-u[j]+1 <= (num_nodes-1)*(1-rutas[i,j]))\n",
    "    end\n",
    "end\n",
    "stats = JuMP.optimize!(mtzModel)\n",
    "print(pretty_table(JuMP.value.(rutas)))"
   ]
  },
  {
   "cell_type": "markdown",
   "metadata": {},
   "source": [
    "***\n",
    "For this specific problem the obtained solution was not the Optimal but it is pretty closed considering that in the first generation  `best_value = .687` and `worst_value = .911`. \n",
    "\n",
    "**Up to about 20 nodes the MTZ formulation may work well buy beyond that point using a GA becomes orders of magnitude faster.**"
   ]
  }
 ],
 "metadata": {
  "kernelspec": {
   "display_name": "Julia 1.4.1",
   "language": "julia",
   "name": "julia-1.4"
  },
  "language_info": {
   "file_extension": ".jl",
   "mimetype": "application/julia",
   "name": "julia",
   "version": "1.4.1"
  }
 },
 "nbformat": 4,
 "nbformat_minor": 4
}
